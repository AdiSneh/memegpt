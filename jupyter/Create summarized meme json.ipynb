{
 "cells": [
  {
   "cell_type": "code",
   "execution_count": 1,
   "id": "611fdd13-6f32-4ae0-9dc4-7cacf2e60ee9",
   "metadata": {},
   "outputs": [],
   "source": [
    "import json\n",
    "\n",
    "from pathlib import Path"
   ]
  },
  {
   "cell_type": "code",
   "execution_count": 7,
   "id": "52b1fc9f-4f8b-4451-a49f-5b3daa25c0ed",
   "metadata": {},
   "outputs": [],
   "source": [
    "ORIGINAL_MEMES_PATH = Path('../src/memegpt/resources/original_memes.json')\n",
    "MEMES_PATH = Path('../src/memegpt/resources/memes.json')"
   ]
  },
  {
   "cell_type": "code",
   "execution_count": 8,
   "id": "9c5b6d0f-b9fd-4b99-95bc-ca436c9f468f",
   "metadata": {},
   "outputs": [
    {
     "data": {
      "text/plain": [
       "True"
      ]
     },
     "execution_count": 8,
     "metadata": {},
     "output_type": "execute_result"
    }
   ],
   "source": [
    "MEMES_PATH.exists()"
   ]
  },
  {
   "cell_type": "markdown",
   "id": "8dcd0521-5039-4d1c-8822-1959193dca8c",
   "metadata": {},
   "source": [
    "### Load memes from file"
   ]
  },
  {
   "cell_type": "code",
   "execution_count": 9,
   "id": "56a28881-490b-4780-8589-a643ca50dfea",
   "metadata": {},
   "outputs": [],
   "source": [
    "with open(MEMES_PATH) as f:\n",
    "    memes = json.load(f)"
   ]
  },
  {
   "cell_type": "markdown",
   "id": "053858ee-9fea-4ecd-ae41-2d4d5de2422c",
   "metadata": {},
   "source": [
    "### Playground"
   ]
  },
  {
   "cell_type": "code",
   "execution_count": 13,
   "id": "454e66cf-fb2f-4afd-9ae5-ad61036cc17d",
   "metadata": {
    "tags": []
   },
   "outputs": [
    {
     "data": {
      "text/plain": [
       "{'id': 181913649,\n",
       " 'name': 'Drake Hotline Bling',\n",
       " 'altNames': 'drakeposting, drakepost, drake hotline approves, drake no yes, drake like dislike, drake faces',\n",
       " 'captions': [{'description': 'Top'}, {'description': 'Bottom'}]}"
      ]
     },
     "execution_count": 13,
     "metadata": {},
     "output_type": "execute_result"
    }
   ],
   "source": [
    "memes['memes'][0]"
   ]
  },
  {
   "cell_type": "code",
   "execution_count": null,
   "id": "3fffc6da-057c-46c6-87a7-8795511044f0",
   "metadata": {
    "tags": []
   },
   "outputs": [],
   "source": [
    "for i, meme in enumerate(memes['memes']):\n",
    "    if 'boxes' not in meme:\n",
    "        print(old_memes['memes'][i], end='\\n\\n')"
   ]
  },
  {
   "cell_type": "code",
   "execution_count": 12,
   "id": "17193368-f14e-427f-8eed-f6e83eded8d4",
   "metadata": {},
   "outputs": [],
   "source": [
    "for meme in memes['memes']:\n",
    "    meme['captions'] = meme.pop('boxes')"
   ]
  },
  {
   "cell_type": "markdown",
   "id": "2c605ce4-cd29-4ed7-9a60-5f0ef98598fc",
   "metadata": {},
   "source": [
    "### Dump memes to JSON"
   ]
  },
  {
   "cell_type": "code",
   "execution_count": 14,
   "id": "044abc9c-5b5f-4a47-ab6f-67cdf151278f",
   "metadata": {},
   "outputs": [],
   "source": [
    "with open(MEMES_PATH, 'w') as f:\n",
    "    json.dump(memes, f)"
   ]
  }
 ],
 "metadata": {
  "kernelspec": {
   "display_name": "Python 3",
   "language": "python",
   "name": "python3"
  },
  "language_info": {
   "codemirror_mode": {
    "name": "ipython",
    "version": 3
   },
   "file_extension": ".py",
   "mimetype": "text/x-python",
   "name": "python",
   "nbconvert_exporter": "python",
   "pygments_lexer": "ipython3",
   "version": "3.9.5"
  }
 },
 "nbformat": 4,
 "nbformat_minor": 5
}
