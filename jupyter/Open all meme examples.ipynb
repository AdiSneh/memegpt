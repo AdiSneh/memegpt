{
 "cells": [
  {
   "cell_type": "code",
   "execution_count": 39,
   "id": "0c1eb6ed-9e6f-4c56-8ebe-23ed71d8072b",
   "metadata": {},
   "outputs": [],
   "source": [
    "import aiohttp\n",
    "import asyncio\n",
    "import json\n",
    "import requests\n",
    "import webbrowser\n",
    "\n",
    "from pathlib import Path\n",
    "from typing import Dict, Any"
   ]
  },
  {
   "cell_type": "code",
   "execution_count": 7,
   "id": "f7973533-4a87-423d-9cce-898dd2b8e732",
   "metadata": {},
   "outputs": [],
   "source": [
    "MEMES_PATH = Path('./new_memes.json')\n",
    "USERNAME = 'memegpt'\n",
    "PASSWORD = ''"
   ]
  },
  {
   "cell_type": "code",
   "execution_count": 3,
   "id": "97342ebe-d904-4b30-9091-23eb18fbe5ad",
   "metadata": {},
   "outputs": [],
   "source": [
    "with open(MEMES_PATH) as f:\n",
    "    memes = json.load(f)"
   ]
  },
  {
   "cell_type": "code",
   "execution_count": 32,
   "id": "7bc69a82-1a25-4924-adfe-f27a3aae3c17",
   "metadata": {},
   "outputs": [],
   "source": [
    "def get_params(meme):\n",
    "    params = {\n",
    "        \"template_id\": meme['id'],\n",
    "        'username': USERNAME,\n",
    "        'password': PASSWORD,\n",
    "    }\n",
    "    if 'boxes' in meme:\n",
    "        boxes = meme['boxes']\n",
    "    else:\n",
    "        boxes = ['', '', '']\n",
    "    for i, text in enumerate(boxes):\n",
    "        params[f'boxes[{i}][text]'] = f'text{i}'\n",
    "    return params"
   ]
  },
  {
   "cell_type": "code",
   "execution_count": 22,
   "id": "1b4ee186-2f48-4b90-ac39-69cf2f26da87",
   "metadata": {},
   "outputs": [],
   "source": [
    "async def async_generate_meme(session, params: Dict[str, Any]):\n",
    "    async with session.post('https://api.imgflip.com/caption_image', data=params, ssl=False) as response:\n",
    "        return await response.json()"
   ]
  },
  {
   "cell_type": "code",
   "execution_count": 38,
   "id": "da068485-27ab-4c71-a2fc-e7a280ecfc08",
   "metadata": {
    "tags": []
   },
   "outputs": [],
   "source": [
    "async def get_meme_urls():\n",
    "    async with aiohttp.ClientSession() as session:\n",
    "        tasks = []\n",
    "        for meme in memes['memes']:\n",
    "            tasks.append(asyncio.ensure_future(async_generate_meme(session, get_params(meme))))\n",
    "        meme_responses = await asyncio.gather(*tasks)\n",
    "        return [response_json['data']['url'] for response_json in meme_responses]"
   ]
  },
  {
   "cell_type": "code",
   "execution_count": 40,
   "id": "f9d36f0b-1a77-472a-b296-8476e0ac7779",
   "metadata": {},
   "outputs": [],
   "source": [
    "def open_meme_urls(meme_urls):\n",
    "    for url in meme_urls:\n",
    "        webbrowser.open(url)"
   ]
  },
  {
   "cell_type": "code",
   "execution_count": 41,
   "id": "ea6bf572-98b1-4c11-abb2-87d1a7ae5b02",
   "metadata": {},
   "outputs": [],
   "source": [
    "meme_urls = await get_meme_urls()"
   ]
  },
  {
   "cell_type": "code",
   "execution_count": 42,
   "id": "e57cce0b-161e-443a-8d0c-46f47022575c",
   "metadata": {},
   "outputs": [],
   "source": [
    "open_meme_urls(meme_urls)"
   ]
  }
 ],
 "metadata": {
  "kernelspec": {
   "display_name": "Python 3",
   "language": "python",
   "name": "python3"
  },
  "language_info": {
   "codemirror_mode": {
    "name": "ipython",
    "version": 3
   },
   "file_extension": ".py",
   "mimetype": "text/x-python",
   "name": "python",
   "nbconvert_exporter": "python",
   "pygments_lexer": "ipython3",
   "version": "3.9.5"
  }
 },
 "nbformat": 4,
 "nbformat_minor": 5
}
